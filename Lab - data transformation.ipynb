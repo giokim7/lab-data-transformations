{
 "cells": [
  {
   "cell_type": "code",
   "execution_count": null,
   "id": "d1476dcc",
   "metadata": {},
   "outputs": [],
   "source": [
    "import pandas as pd\n",
    "import seaborn as sns\n",
    "import matplotlib.pyplot as plt\n",
    "\n",
    "#import csv file\n",
    "df = pd.read_csv('marketing_customer_analysis.csv')\n",
    "\n",
    "#check datatype\n",
    "data_types = df.dtypes\n",
    "\n",
    "# Create empty lists to store column names\n",
    "numerical_columns = []\n",
    "categorical_columns = []\n",
    "\n",
    "# Iterate over the columns and check if they are numerical or categorical\n",
    "for column_name, data_type in data_types.iteritems():\n",
    "    if pd.api.types.is_numeric_dtype(data_type):\n",
    "        numerical_columns.append(column_name)\n",
    "    else:\n",
    "        categorical_columns.append(column_name)\n",
    "        \n",
    "# Create new df\n",
    "df_numerical = df[numerical_columns]\n",
    "df_categorical = df[categorical_columns]\n",
    "\n",
    "# Use seaborn to construct distribution plots\n",
    "sns.histplot(df_numerical)\n",
    "\n",
    "# Construct a histogram using plt.hist()\n",
    "plt.hist(df_categorical, bins=5, edgecolor='black')\n",
    "\n",
    "# Compute the skewness for each column\n",
    "skewness_numerical = df_numerical.skew()\n",
    "skewness_categorical = df_categorical.skew()\n",
    "\n",
    "# Calculate the correlation matrix\n",
    "correlation_matrix_num = df_numerical.corr()\n",
    "correlation_matrix_cat = df_categorical.corr()\n",
    "\n",
    "# Display the correlation matrix\n",
    "print(correlation_matrix_num)\n",
    "print(correlation_matrix_cat)\n",
    "\n",
    "# Filter the correlation matrix\n",
    "threshold = 0.5\n",
    "filtered_corr_matrix = correlation_matrix.abs().where(correlation_matrix.abs() > threshold)\n",
    "\n",
    "# Create a heatmap of the filtered correlation matrix\n",
    "sns.heatmap(filtered_corr_matrix, annot=True, cmap='coolwarm', fmt=\".2f\")\n",
    "\n",
    "# Set the plot title\n",
    "plt.title('Correlation Matrix Heatmap')\n",
    "\n"
   ]
  },
  {
   "cell_type": "code",
   "execution_count": null,
   "id": "ab6841a5",
   "metadata": {},
   "outputs": [],
   "source": []
  },
  {
   "cell_type": "code",
   "execution_count": null,
   "id": "e0874f39",
   "metadata": {},
   "outputs": [],
   "source": []
  },
  {
   "cell_type": "code",
   "execution_count": null,
   "id": "b621b43f",
   "metadata": {},
   "outputs": [],
   "source": []
  },
  {
   "cell_type": "code",
   "execution_count": null,
   "id": "5a46a279",
   "metadata": {},
   "outputs": [],
   "source": []
  },
  {
   "cell_type": "code",
   "execution_count": null,
   "id": "a47a5a43",
   "metadata": {},
   "outputs": [],
   "source": []
  }
 ],
 "metadata": {
  "kernelspec": {
   "display_name": "Python 3 (ipykernel)",
   "language": "python",
   "name": "python3"
  },
  "language_info": {
   "codemirror_mode": {
    "name": "ipython",
    "version": 3
   },
   "file_extension": ".py",
   "mimetype": "text/x-python",
   "name": "python",
   "nbconvert_exporter": "python",
   "pygments_lexer": "ipython3",
   "version": "3.9.13"
  }
 },
 "nbformat": 4,
 "nbformat_minor": 5
}
